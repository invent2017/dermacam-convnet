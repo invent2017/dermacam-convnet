{
 "cells": [
  {
   "cell_type": "code",
   "execution_count": 1,
   "metadata": {
    "collapsed": false,
    "scrolled": true
   },
   "outputs": [
    {
     "name": "stderr",
     "output_type": "stream",
     "text": [
      "/home/filbert/anaconda3/lib/python3.6/importlib/_bootstrap.py:205: RuntimeWarning: compiletime version 3.5 of module 'tensorflow.python.framework.fast_tensor_util' does not match runtime version 3.6\n",
      "  return f(*args, **kwds)\n"
     ]
    },
    {
     "name": "stdout",
     "output_type": "stream",
     "text": [
      "1.4.0\n"
     ]
    }
   ],
   "source": [
    "import tensorflow as tf\n",
    "import pandas as pd\n",
    "import numpy as np\n",
    "import matplotlib.pyplot as plt\n",
    "import matplotlib\n",
    "from PIL import Image\n",
    "\n",
    "import tflearn\n",
    "from tflearn.layers.core import input_data, dropout, fully_connected\n",
    "from tflearn.layers.conv import conv_2d, max_pool_2d\n",
    "from tflearn.layers.normalization import local_response_normalization\n",
    "from tflearn.layers.estimator import regression\n",
    "\n",
    "%matplotlib inline\n",
    "print(tf.__version__)\n",
    "sess = tf.InteractiveSession()\n",
    "tf.logging.set_verbosity(\"INFO\")"
   ]
  },
  {
   "cell_type": "code",
   "execution_count": 2,
   "metadata": {
    "collapsed": false
   },
   "outputs": [],
   "source": [
    "# define preprocessing function\n",
    "def preprocess(disease, first, last, data, label):\n",
    "    for count in range(first,last+1): #only taking first 48 pics, last 5 to act as a '''test set'''\n",
    "        string = \"processed/\" + str(disease) + \"/\" + str(count) + \".jpg\"\n",
    "        pic = Image.open(string).load()\n",
    "        rgb = []\n",
    "        for x in range(0,64):\n",
    "            for y in range(0,64):\n",
    "                rgb.append(pic[x,y])\n",
    "\n",
    "        data.append(rgb)\n",
    "        if disease == \"acne\":\n",
    "            label.append(0)\n",
    "        elif disease == \"ezcema\":\n",
    "            label.append(1)\n",
    "\n",
    "def onehot(array,depth):\n",
    "    n = array.size\n",
    "    onehot = np.zeros((n,depth))\n",
    "    for count in range(0,array.size):\n",
    "        onehot[count][array[count]] = 1\n",
    "        \n",
    "    return onehot\n",
    "\n",
    "\n",
    "\n",
    "# define training data\n",
    "train_data = []\n",
    "train_labels = []\n",
    "\n",
    "preprocess(\"acne\",1,48,train_data,train_labels)\n",
    "preprocess(\"ezcema\",1,51,train_data,train_labels)\n",
    "    \n",
    "train_data = np.asarray(train_data, dtype=np.float32)\n",
    "train_labels = np.asarray(train_labels)\n",
    "\n",
    "# define testing data\n",
    "test_data = []\n",
    "test_labels = []\n",
    "\n",
    "preprocess(\"acne\",49,53,test_data,test_labels)\n",
    "preprocess(\"ezcema\",52,56,test_data,test_labels)\n",
    "\n",
    "test_data = np.asarray(test_data, dtype=np.float32)\n",
    "test_labels = np.asarray(test_labels)\n",
    "\n",
    "# reshape data\n",
    "train_labels = onehot(train_labels,2)\n",
    "test_labels = onehot(test_labels,2)\n",
    "\n",
    "train_data = train_data.reshape([-1, 64, 64, 3])\n",
    "test_data = test_data.reshape([-1, 64, 64, 3])"
   ]
  },
  {
   "cell_type": "code",
   "execution_count": 3,
   "metadata": {
    "collapsed": false
   },
   "outputs": [
    {
     "data": {
      "text/plain": [
       "(10, 2)"
      ]
     },
     "execution_count": 3,
     "metadata": {},
     "output_type": "execute_result"
    }
   ],
   "source": [
    "test_labels.shape"
   ]
  },
  {
   "cell_type": "code",
   "execution_count": 4,
   "metadata": {
    "collapsed": false,
    "scrolled": true
   },
   "outputs": [
    {
     "name": "stdout",
     "output_type": "stream",
     "text": [
      "WARNING:tensorflow:From /home/filbert/anaconda3/lib/python3.6/site-packages/tflearn/initializations.py:119: UniformUnitScaling.__init__ (from tensorflow.python.ops.init_ops) is deprecated and will be removed in a future version.\n",
      "Instructions for updating:\n",
      "Use tf.initializers.variance_scaling instead with distribution=uniform to get equivalent behavior.\n"
     ]
    }
   ],
   "source": [
    "# define network architecture\n",
    "# input\n",
    "network = input_data(shape=[None, 64, 64, 3], name='input')\n",
    "\n",
    "# conv 1 and pooling 1\n",
    "network = conv_2d(network, 64, 13, activation = \"relu\", regularizer=\"L2\")\n",
    "network = max_pool_2d(network, 2, 2)\n",
    "network = local_response_normalization(network)\n",
    "\n",
    "# conv 2 and pooling 2\n",
    "network = conv_2d(network, 96, 13, activation = \"relu\", regularizer=\"L2\")\n",
    "network = max_pool_2d(network, 2, 2)\n",
    "network = local_response_normalization(network)\n",
    "\n",
    "# dense and dropout\n",
    "network = fully_connected(network, 1024, activation = \"tanh\")\n",
    "network = dropout(network, 0.9)\n",
    "\n",
    "# logits\n",
    "network = fully_connected(network, 2, activation = \"softmax\")\n",
    "\n",
    "# target\n",
    "network = regression(network, optimizer='adam', learning_rate=0.01,\n",
    "                     loss='categorical_crossentropy', name='target')\n",
    "\n",
    "# training\n",
    "dermacam = tflearn.DNN(network, tensorboard_verbose=0)"
   ]
  },
  {
   "cell_type": "code",
   "execution_count": 5,
   "metadata": {
    "collapsed": false,
    "scrolled": false
   },
   "outputs": [
    {
     "name": "stdout",
     "output_type": "stream",
     "text": [
      "Training Step: 19  | total loss: \u001b[1m\u001b[32m2.79979\u001b[0m\u001b[0m | time: 15.179s\n",
      "| Adam | epoch: 010 | loss: 2.79979 - acc: 0.4812 -- iter: 64/99\n",
      "Training Step: 20  | total loss: \u001b[1m\u001b[32m3.01296\u001b[0m\u001b[0m | time: 24.538s\n",
      "| Adam | epoch: 010 | loss: 3.01296 - acc: 0.4822 | val_loss: 5.73860 - val_acc: 0.5000 -- iter: 99/99\n",
      "--\n"
     ]
    }
   ],
   "source": [
    "dermacam.fit({'input': train_data}, {'target': train_labels}, n_epoch=10,\n",
    "           validation_set=({'input': test_data}, {'target': test_labels}),\n",
    "           snapshot_step=10, show_metric=True, run_id='convnet_dermacam')"
   ]
  },
  {
   "cell_type": "code",
   "execution_count": null,
   "metadata": {
    "collapsed": true
   },
   "outputs": [],
   "source": []
  }
 ],
 "metadata": {
  "kernelspec": {
   "display_name": "Python 3",
   "language": "python",
   "name": "python3"
  },
  "language_info": {
   "codemirror_mode": {
    "name": "ipython",
    "version": 3
   },
   "file_extension": ".py",
   "mimetype": "text/x-python",
   "name": "python",
   "nbconvert_exporter": "python",
   "pygments_lexer": "ipython3",
   "version": "3.6.0"
  }
 },
 "nbformat": 4,
 "nbformat_minor": 2
}
