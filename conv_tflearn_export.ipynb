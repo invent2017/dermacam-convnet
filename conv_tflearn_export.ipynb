{
 "cells": [
  {
   "cell_type": "code",
   "execution_count": null,
   "metadata": {
    "collapsed": true
   },
   "outputs": [],
   "source": [
    "import tensorflow as tf\n",
    "import pandas as pd\n",
    "import numpy as np\n",
    "import matplotlib.pyplot as plt\n",
    "import matplotlib\n",
    "from PIL import Image\n",
    "\n",
    "import tflearn\n",
    "from tflearn.layers.core import input_data, dropout, fully_connected\n",
    "from tflearn.layers.conv import conv_2d, max_pool_2d, avg_pool_2d\n",
    "from tflearn.layers.normalization import local_response_normalization\n",
    "from tflearn.layers.estimator import regression\n",
    "import tflearn.data_preprocessing\n",
    "import tflearn.data_augmentation\n",
    "\n",
    "%matplotlib inline\n",
    "print(tf.__version__)\n",
    "sess = tf.InteractiveSession()\n",
    "tf.logging.set_verbosity(\"INFO\")\n",
    "\n",
    "# define preprocessing function\n",
    "def preprocess(disease, first, last, data, label):\n",
    "    for count in range(first,last+1): #only taking first 48 pics, last 5 to act as a '''test set'''\n",
    "        string = \"processed/\" + str(disease) + \"/\" + str(count) + \".jpg\"\n",
    "        pic = Image.open(string).load()\n",
    "        rgb = []\n",
    "        for x in range(0,64):\n",
    "            for y in range(0,64):\n",
    "                rgb.append(pic[x,y])\n",
    "\n",
    "        data.append(rgb)\n",
    "        if disease == \"acne\":\n",
    "            label.append(0)\n",
    "        elif disease == \"ezcema\":\n",
    "            label.append(1)\n",
    "        elif disease == \"psoriasis\":\n",
    "            label.append(2)\n",
    "        elif disease == \"seborrheic keratoses\":\n",
    "            label.append(3)\n",
    "        elif disease == \"skin cancer\":\n",
    "            label.append(4)\n",
    "\n",
    "def onehot(array,depth):\n",
    "    n = array.size\n",
    "    onehot = np.zeros((n,depth))\n",
    "    for count in range(0,array.size):\n",
    "        onehot[count][array[count]] = 1\n",
    "        \n",
    "    return onehot\n",
    "\n",
    "\n",
    "\n",
    "# define training data\n",
    "train_data = []\n",
    "train_labels = []\n",
    "\n",
    "preprocess(\"acne\",1,48,train_data,train_labels)\n",
    "preprocess(\"ezcema\",1,51,train_data,train_labels)\n",
    "preprocess(\"psoriasis\",1,44,train_data,train_labels)\n",
    "preprocess(\"seborrheic keratoses\",1,45,train_data,train_labels)\n",
    "preprocess(\"skin cancer\",1,45,train_data,train_labels)\n",
    "    \n",
    "# define testing data\n",
    "test_data = []\n",
    "test_labels = []\n",
    "\n",
    "preprocess(\"acne\",49,53,test_data,test_labels)\n",
    "preprocess(\"ezcema\",52,56,test_data,test_labels)\n",
    "preprocess(\"psoriasis\",45,49,test_data,test_labels)\n",
    "preprocess(\"seborrheic keratoses\",46,50,test_data,test_labels)\n",
    "preprocess(\"skin cancer\",46,50,test_data,test_labels)\n",
    "\n",
    "# reshape data\n",
    "train_labels = np.asarray(train_labels)\n",
    "train_labels = onehot(train_labels,5)\n",
    "test_labels = np.asarray(test_labels)\n",
    "test_labels = onehot(test_labels,5)\n",
    "\n",
    "train_data = np.asarray(train_data, dtype=np.float32)/255\n",
    "train_data = train_data.reshape([-1, 64, 64, 3])\n",
    "test_data = np.asarray(test_data, dtype=np.float32)/255\n",
    "test_data = test_data.reshape([-1, 64, 64, 3])"
   ]
  },
  {
   "cell_type": "code",
   "execution_count": null,
   "metadata": {
    "collapsed": true
   },
   "outputs": [],
   "source": [
    "# define network architecture (old)\n",
    "# input\n",
    "_input = input_data(shape=[None, 64, 64, 3], name='input')\n",
    "\n",
    "# conv 1 and pooling 1\n",
    "_conv1 = conv_2d(_input, 128, 12, activation = \"relu\", regularizer=\"L2\", weights_init=\"xavier\", name=\"c1\")\n",
    "_pool1 = max_pool_2d(_conv1, 2)\n",
    "_norm1 = local_response_normalization(_pool1)\n",
    "\n",
    "# conv 2 and pooling 200\n",
    "_conv2 = conv_2d(_norm1, 128, 12, activation = \"relu\", regularizer=\"L2\", weights_init=\"xavier\")\n",
    "_pool2 = max_pool_2d(_conv2, 2)\n",
    "_norm2 = local_response_normalization(_pool2)\n",
    "\n",
    "# dense and dropout\n",
    "_dense = fully_connected(_norm2, 512, activation = \"relu\", weights_init=\"xavier\")\n",
    "_dropout = dropout(_dense, 0.9)\n",
    "\n",
    "# logits\n",
    "_logits = fully_connected(_dropout, 5, activation = \"softmax\")\n",
    "\n",
    "# target\n",
    "network = regression(_logits, optimizer='rmsprop', learning_rate=0.01,#0015,\n",
    "                     loss='binary_crossentropy', name='target',)\n",
    "\n",
    "# training\n",
    "dermacam = tflearn.DNN(network, tensorboard_verbose=3)\n",
    "#dermacam.load(\"models/dermacam1.tflearn\")"
   ]
  },
  {
   "cell_type": "code",
   "execution_count": null,
   "metadata": {
    "collapsed": true
   },
   "outputs": [],
   "source": [
    "dermacam.predict({'input': test_data})"
   ]
  },
  {
   "cell_type": "code",
   "execution_count": null,
   "metadata": {
    "collapsed": true
   },
   "outputs": [],
   "source": [
    "dermacam.predict_label({'input': test_data})"
   ]
  },
  {
   "cell_type": "code",
   "execution_count": null,
   "metadata": {
    "collapsed": true
   },
   "outputs": [],
   "source": [
    "dermacam.save(\"models/dermacam2.tflearn\")\n",
    "dermacam.get_weights(_logits.W)"
   ]
  }
 ],
 "metadata": {
  "kernelspec": {
   "display_name": "Python 3",
   "language": "python",
   "name": "python3"
  },
  "language_info": {
   "codemirror_mode": {
    "name": "ipython",
    "version": 3
   },
   "file_extension": ".py",
   "mimetype": "text/x-python",
   "name": "python",
   "nbconvert_exporter": "python",
   "pygments_lexer": "ipython3",
   "version": "3.6.0"
  }
 },
 "nbformat": 4,
 "nbformat_minor": 2
}
