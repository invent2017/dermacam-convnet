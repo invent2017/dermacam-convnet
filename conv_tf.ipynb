{
 "cells": [
  {
   "cell_type": "code",
   "execution_count": 1,
   "metadata": {
    "collapsed": false
   },
   "outputs": [
    {
     "name": "stderr",
     "output_type": "stream",
     "text": [
      "/home/filbert/anaconda3/lib/python3.6/importlib/_bootstrap.py:205: RuntimeWarning: compiletime version 3.5 of module 'tensorflow.python.framework.fast_tensor_util' does not match runtime version 3.6\n",
      "  return f(*args, **kwds)\n"
     ]
    },
    {
     "name": "stdout",
     "output_type": "stream",
     "text": [
      "1.4.0\n"
     ]
    }
   ],
   "source": [
    "import tensorflow as tf\n",
    "import pandas as pd\n",
    "import numpy as np\n",
    "import tflearn\n",
    "import matplotlib.pyplot as plt\n",
    "import matplotlib\n",
    "from PIL import Image\n",
    "%matplotlib inline\n",
    "print(tf.__version__)\n",
    "tf.logging.set_verbosity(\"INFO\")"
   ]
  },
  {
   "cell_type": "code",
   "execution_count": 7,
   "metadata": {
    "collapsed": false
   },
   "outputs": [],
   "source": [
    "# define preprocessing function\n",
    "def preprocess(disease, first, last, data, label):\n",
    "    for count in range(first,last+1): #only taking first 48 pics, last 5 to act as a '''test set'''\n",
    "        string = \"processed/\" + str(disease) + \"/\" + str(count) + \".jpg\"\n",
    "        pic = Image.open(string).load()\n",
    "        rgb = []\n",
    "        for x in range(0,64):\n",
    "            for y in range(0,64):\n",
    "                rgb.append(pic[x,y])\n",
    "\n",
    "        data.append(rgb)\n",
    "        if disease == \"acne\":\n",
    "            label.append(0)\n",
    "        elif disease == \"ezcema\":\n",
    "            label.append(1)\n",
    "        elif disease == \"psoriasis\":\n",
    "            label.append(2)\n",
    "        elif disease == \"seborrheic keratoses\":\n",
    "            label.append(3)\n",
    "        elif disease == \"skin cancer\":\n",
    "            label.append(4)\n",
    "\n",
    "# define training data\n",
    "train_data = []\n",
    "train_labels = []\n",
    "\n",
    "preprocess(\"acne\",1,48,train_data,train_labels)\n",
    "preprocess(\"ezcema\",1,51,train_data,train_labels)\n",
    "preprocess(\"psoriasis\",1,44,train_data,train_labels)\n",
    "preprocess(\"seborrheic keratoses\",1,45,train_data,train_labels)\n",
    "preprocess(\"skin cancer\",1,45,train_data,train_labels)\n",
    "    \n",
    "train_data = np.asarray(train_data, dtype=np.float32)\n",
    "train_labels = np.asarray(train_labels)\n",
    "\n",
    "# define testing data\n",
    "test_data = []\n",
    "test_labels = []\n",
    "\n",
    "preprocess(\"acne\",49,53,test_data,test_labels)\n",
    "preprocess(\"ezcema\",52,56,test_data,test_labels)\n",
    "preprocess(\"psoriasis\",45,49,test_data,test_labels)\n",
    "preprocess(\"seborrheic keratoses\",46,50,test_data,test_labels)\n",
    "preprocess(\"skin cancer\",46,50,test_data,test_labels)\n",
    "\n",
    "test_data = np.asarray(test_data, dtype=np.float32)\n",
    "test_labels = np.asarray(test_labels)"
   ]
  },
  {
   "cell_type": "code",
   "execution_count": 8,
   "metadata": {
    "collapsed": false
   },
   "outputs": [
    {
     "name": "stdout",
     "output_type": "stream",
     "text": [
      "(233, 4096, 3) (233,)\n",
      "(25, 4096, 3) (25,)\n"
     ]
    }
   ],
   "source": [
    "print(train_data.shape, train_labels.shape)\n",
    "print(test_data.shape, test_labels.shape)"
   ]
  },
  {
   "cell_type": "code",
   "execution_count": 16,
   "metadata": {
    "collapsed": false
   },
   "outputs": [],
   "source": [
    "# define network architecture\n",
    "def cnn_model_fn1(features, labels, mode):\n",
    "    \"\"\"Model function for CNN.\"\"\"\n",
    "    # Input Layer\n",
    "    input_layer = tf.reshape(features[\"x\"], [-1, 64, 64, 3])\n",
    "    \n",
    "    # Convolutional Layer #1\n",
    "    conv1 = tf.layers.conv2d(\n",
    "      inputs=input_layer,\n",
    "      filters=64,\n",
    "      kernel_size=[13, 13],\n",
    "      padding=\"same\",\n",
    "      activation=tf.nn.relu) #output: [-1, 64, 64, 64]\n",
    "    pool1 = tf.layers.max_pooling2d(inputs=conv1, pool_size=[2, 2], strides=2) #output [-1, 32, 32, 64]\n",
    "    \n",
    "    # Convolutional Layer #2\n",
    "    conv2 = tf.layers.conv2d(\n",
    "      inputs=pool1,\n",
    "      filters=96,\n",
    "      kernel_size=[13, 13],\n",
    "      padding=\"same\",\n",
    "      activation=tf.nn.relu) #output: [-1, 32, 32, 96]\n",
    "    pool2 = tf.layers.max_pooling2d(inputs=conv2, pool_size=[2, 2], strides=2) #output [-1, 16, 16, 96]\n",
    "    \n",
    "    # Dense Layer\n",
    "    pool2_flat = tf.reshape(pool2, [-1, 16 * 16 * 96])\n",
    "    dense = tf.layers.dense(inputs=pool2_flat, units=1024, activation=tf.nn.relu)\n",
    "    dropout = tf.layers.dropout(inputs=dense, rate=0.1, training=mode == tf.estimator.ModeKeys.TRAIN)\n",
    "    \n",
    "    # Logits Layer\n",
    "    logits = tf.layers.dense(inputs=dropout, units=5)\n",
    "    \n",
    "    predictions = {\n",
    "        \"classes\": tf.argmax(input=logits, axis=1),\n",
    "        \"probabilities\": tf.nn.softmax(logits, name=\"softmax_tensor\")\n",
    "    }\n",
    "    \n",
    "    if mode == tf.estimator.ModeKeys.PREDICT:\n",
    "        return tf.estimator.EstimatorSpec(mode=mode, predictions=predictions)\n",
    "    \n",
    "    # Loss Calculation\n",
    "    onehot_labels = tf.one_hot(indices=tf.cast(labels, tf.int32), depth=5)\n",
    "    loss = tf.losses.softmax_cross_entropy(onehot_labels=onehot_labels, logits=logits)\n",
    "    \n",
    "    # Configure training op\n",
    "    if mode == tf.estimator.ModeKeys.TRAIN:\n",
    "        optimizer = tf.train.AdamOptimizer(learning_rate=0.001)\n",
    "        train_op = optimizer.minimize(loss=loss, global_step=tf.train.get_global_step())\n",
    "        return tf.estimator.EstimatorSpec(mode=mode, loss=loss, train_op=train_op)\n",
    "    \n",
    "    # Add Evaluation Metrics\n",
    "    eval_metric_ops = {\n",
    "        \"accuracy\": tf.metrics.accuracy(labels=labels, predictions=predictions[\"classes\"])\n",
    "    }\n",
    "    return tf.estimator.EstimatorSpec(mode=mode, loss=loss, eval_metric_ops=eval_metric_ops)"
   ]
  },
  {
   "cell_type": "code",
   "execution_count": 32,
   "metadata": {
    "collapsed": false
   },
   "outputs": [],
   "source": [
    "# define network architecture\n",
    "def cnn_model_fn2(features, labels, mode):\n",
    "    \"\"\"Model function for CNN.\"\"\"\n",
    "    # Input Layer\n",
    "    input_layer = tf.reshape(features[\"x\"], [-1, 64, 64, 3])\n",
    "    \n",
    "    # Convolutional Layer #1\n",
    "    conv1 = tf.layers.conv2d(\n",
    "      inputs=input_layer,\n",
    "      filters=64,\n",
    "      kernel_size=[16, 16],\n",
    "      padding=\"same\",\n",
    "      activation=tf.nn.relu) #output: [-1, 64, 64, 64]\n",
    "    pool1 = tf.layers.max_pooling2d(inputs=conv1, pool_size=[2, 2], strides=2) #output [-1, 32, 32, 64]\n",
    "    #print(conv1.shape, pool1.shape)\n",
    "    \n",
    "    # Convolutional Layer #2\n",
    "    conv2 = tf.layers.conv2d(\n",
    "      inputs=pool1,\n",
    "      filters=128,\n",
    "      kernel_size=[12, 12],\n",
    "      padding=\"same\",\n",
    "      activation=tf.nn.relu) #output: [-1, 32, 32, 128]\n",
    "    pool2 = tf.layers.max_pooling2d(inputs=conv2, pool_size=[2, 2], strides=2) #output [-1, 16, 16, 128]\n",
    "    #print(conv2.shape, pool2.shape)\n",
    "    \n",
    "    # Dense Layers\n",
    "    pool2_flat = tf.reshape(pool2, [-1, 16 * 16 * 128])\n",
    "    dense1 = tf.layers.dense(inputs=pool2_flat, units=1024, activation=tf.nn.relu)\n",
    "    dropout1 = tf.layers.dropout(inputs=dense1, rate=0.1, training=mode == tf.estimator.ModeKeys.TRAIN)\n",
    "    dense2 = tf.layers.dense(inputs=dropout1, units=512, activation=tf.nn.relu)\n",
    "    dropout2 = tf.layers.dropout(inputs=dense2, rate=0.1, training=mode == tf.estimator.ModeKeys.TRAIN)\n",
    "    \n",
    "    # Logits Layer\n",
    "    logits = tf.layers.dense(inputs=dropout2, units=5)\n",
    "    \n",
    "    predictions = {\n",
    "        \"classes\": tf.argmax(input=logits, axis=1),\n",
    "        \"probabilities\": tf.nn.softmax(logits, name=\"softmax_tensor\")\n",
    "    }\n",
    "    \n",
    "    if mode == tf.estimator.ModeKeys.PREDICT:\n",
    "        return tf.estimator.EstimatorSpec(mode=mode, predictions=predictions)\n",
    "    \n",
    "    # Loss Calculation\n",
    "    onehot_labels = tf.one_hot(indices=tf.cast(labels, tf.int32), depth=5)\n",
    "    loss = tf.losses.softmax_cross_entropy(onehot_labels=onehot_labels, logits=logits)\n",
    "    \n",
    "    # Configure training op\n",
    "    if mode == tf.estimator.ModeKeys.TRAIN:\n",
    "        optimizer = tf.train.AdamOptimizer(learning_rate=0.001)\n",
    "        train_op = optimizer.minimize(loss=loss, global_step=tf.train.get_global_step())\n",
    "        return tf.estimator.EstimatorSpec(mode=mode, loss=loss, train_op=train_op)\n",
    "    \n",
    "    # Add Evaluation Metrics\n",
    "    eval_metric_ops = {\n",
    "        \"accuracy\": tf.metrics.accuracy(labels=labels, predictions=predictions[\"classes\"])\n",
    "    }\n",
    "    return tf.estimator.EstimatorSpec(mode=mode, loss=loss, eval_metric_ops=eval_metric_ops)"
   ]
  },
  {
   "cell_type": "code",
   "execution_count": 33,
   "metadata": {
    "collapsed": false
   },
   "outputs": [
    {
     "name": "stdout",
     "output_type": "stream",
     "text": [
      "INFO:tensorflow:Using default config.\n",
      "INFO:tensorflow:Using config: {'_model_dir': 'models/dermacam2', '_tf_random_seed': None, '_save_summary_steps': 100, '_save_checkpoints_steps': None, '_save_checkpoints_secs': 600, '_session_config': None, '_keep_checkpoint_max': 5, '_keep_checkpoint_every_n_hours': 10000, '_log_step_count_steps': 100, '_service': None, '_cluster_spec': <tensorflow.python.training.server_lib.ClusterSpec object at 0x7fb31fcf5a90>, '_task_type': 'worker', '_task_id': 0, '_master': '', '_is_chief': True, '_num_ps_replicas': 0, '_num_worker_replicas': 1}\n"
     ]
    }
   ],
   "source": [
    "# Create dermacam model\n",
    "# there are 2 models, one is the original one, the other is the new one im experimenting with\n",
    "\n",
    "#dermacam = tf.estimator.Estimator(model_fn=cnn_model_fn1,model_dir=\"models/dermacam1\")\n",
    "dermacam = tf.estimator.Estimator(model_fn=cnn_model_fn2,model_dir=\"models/dermacam2\")\n",
    "\n",
    "# Set up logging for predictions\n",
    "tensors_to_log = {\"probabilities\": \"softmax_tensor\"}\n",
    "logging_hook = tf.train.LoggingTensorHook(tensors=tensors_to_log, every_n_iter=100)"
   ]
  },
  {
   "cell_type": "code",
   "execution_count": 34,
   "metadata": {
    "collapsed": false,
    "scrolled": false
   },
   "outputs": [
    {
     "name": "stdout",
     "output_type": "stream",
     "text": [
      "INFO:tensorflow:Create CheckpointSaverHook.\n",
      "INFO:tensorflow:Restoring parameters from models/dermacam2/model.ckpt-2\n",
      "INFO:tensorflow:Saving checkpoints for 3 into models/dermacam2/model.ckpt.\n",
      "INFO:tensorflow:probabilities = [[ 1.          0.          0.          0.          0.        ]\n",
      " [ 1.          0.          0.          0.          0.        ]\n",
      " [ 1.          0.          0.          0.          0.        ]\n",
      " [ 1.          0.          0.          0.          0.        ]\n",
      " [ 1.          0.          0.          0.          0.        ]\n",
      " [ 1.          0.          0.          0.          0.        ]\n",
      " [ 1.          0.          0.          0.          0.        ]\n",
      " [ 1.          0.          0.          0.          0.        ]\n",
      " [ 1.          0.          0.          0.          0.        ]\n",
      " [ 1.          0.          0.          0.          0.        ]\n",
      " [ 1.          0.          0.          0.          0.        ]\n",
      " [ 1.          0.          0.          0.          0.        ]\n",
      " [ 1.          0.          0.          0.          0.        ]\n",
      " [ 1.          0.          0.          0.          0.        ]\n",
      " [ 1.          0.          0.          0.          0.        ]\n",
      " [ 1.          0.          0.          0.          0.        ]\n",
      " [ 0.9999963   0.          0.00000375  0.          0.        ]\n",
      " [ 1.          0.          0.          0.          0.        ]\n",
      " [ 1.          0.          0.          0.          0.        ]\n",
      " [ 1.          0.          0.          0.          0.        ]]\n",
      "INFO:tensorflow:loss = 250.42, step = 3\n",
      "INFO:tensorflow:Saving checkpoints for 4 into models/dermacam2/model.ckpt.\n",
      "INFO:tensorflow:Loss for final step: 112.885.\n"
     ]
    },
    {
     "data": {
      "text/plain": [
       "<tensorflow.python.estimator.estimator.Estimator at 0x7fb31fb46198>"
      ]
     },
     "execution_count": 34,
     "metadata": {},
     "output_type": "execute_result"
    }
   ],
   "source": [
    "# Train the model\n",
    "train_input_fn = tf.estimator.inputs.numpy_input_fn(\n",
    "    x={\"x\": train_data},\n",
    "    y=train_labels,\n",
    "    batch_size=20,\n",
    "    num_epochs=None,\n",
    "    shuffle=True)\n",
    "\n",
    "dermacam.train(\n",
    "    input_fn=train_input_fn,\n",
    "    steps=2,\n",
    "    hooks=[logging_hook])"
   ]
  },
  {
   "cell_type": "code",
   "execution_count": 29,
   "metadata": {
    "collapsed": false
   },
   "outputs": [
    {
     "name": "stdout",
     "output_type": "stream",
     "text": [
      "(?, 64, 64, 64) (?, 32, 32, 64)\n",
      "(?, 32, 32, 128) (?, 16, 16, 128)\n",
      "INFO:tensorflow:Starting evaluation at 2017-11-18-14:56:57\n",
      "INFO:tensorflow:Restoring parameters from /tmp/tmpi4zo7w98/model.ckpt-2\n",
      "INFO:tensorflow:probabilities = [[ 0.  1.  0.  0.  0.]\n",
      " [ 0.  1.  0.  0.  0.]\n",
      " [ 0.  1.  0.  0.  0.]\n",
      " [ 0.  1.  0.  0.  0.]\n",
      " [ 0.  1.  0.  0.  0.]\n",
      " [ 0.  1.  0.  0.  0.]\n",
      " [ 0.  1.  0.  0.  0.]\n",
      " [ 0.  1.  0.  0.  0.]\n",
      " [ 0.  1.  0.  0.  0.]\n",
      " [ 0.  1.  0.  0.  0.]\n",
      " [ 0.  1.  0.  0.  0.]\n",
      " [ 0.  1.  0.  0.  0.]\n",
      " [ 0.  1.  0.  0.  0.]\n",
      " [ 0.  1.  0.  0.  0.]\n",
      " [ 0.  1.  0.  0.  0.]\n",
      " [ 0.  1.  0.  0.  0.]\n",
      " [ 0.  1.  0.  0.  0.]\n",
      " [ 0.  1.  0.  0.  0.]\n",
      " [ 0.  1.  0.  0.  0.]\n",
      " [ 0.  1.  0.  0.  0.]\n",
      " [ 0.  1.  0.  0.  0.]\n",
      " [ 0.  1.  0.  0.  0.]\n",
      " [ 0.  1.  0.  0.  0.]\n",
      " [ 0.  1.  0.  0.  0.]\n",
      " [ 0.  1.  0.  0.  0.]]\n",
      "INFO:tensorflow:Finished evaluation at 2017-11-18-14:57:00\n",
      "INFO:tensorflow:Saving dict for global step 2: accuracy = 0.2, global_step = 2, loss = 228.665\n",
      "{'accuracy': 0.2, 'loss': 228.66531, 'global_step': 2}\n"
     ]
    }
   ],
   "source": [
    "# Evaluate the model and print results\n",
    "eval_input_fn = tf.estimator.inputs.numpy_input_fn(\n",
    "    x={\"x\": test_data},\n",
    "    y=test_labels,\n",
    "    num_epochs=1,\n",
    "    shuffle=False)\n",
    "\n",
    "eval_results = dermacam.evaluate(input_fn=eval_input_fn,hooks=[logging_hook])\n",
    "print(eval_results)\n",
    "\n",
    "# 0 1 1 0 0 0 1 1 0 1 (Predicted Results)\n",
    "# 0 0 0 0 0 1 1 1 1 1 (Actual results)\n",
    "# 6/10, 60% accuracy."
   ]
  }
 ],
 "metadata": {
  "kernelspec": {
   "display_name": "Python 3",
   "language": "python",
   "name": "python3"
  },
  "language_info": {
   "codemirror_mode": {
    "name": "ipython",
    "version": 3
   },
   "file_extension": ".py",
   "mimetype": "text/x-python",
   "name": "python",
   "nbconvert_exporter": "python",
   "pygments_lexer": "ipython3",
   "version": "3.6.0"
  }
 },
 "nbformat": 4,
 "nbformat_minor": 2
}
