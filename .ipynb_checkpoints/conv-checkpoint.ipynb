{
 "cells": [
  {
   "cell_type": "code",
   "execution_count": 2,
   "metadata": {
    "collapsed": false
   },
   "outputs": [
    {
     "name": "stdout",
     "output_type": "stream",
     "text": [
      "1.4.0\n"
     ]
    }
   ],
   "source": [
    "import tensorflow as tf\n",
    "import pandas as pd\n",
    "import numpy as np\n",
    "import matplotlib.pyplot as plt\n",
    "import matplotlib\n",
    "from PIL import Image\n",
    "%matplotlib inline\n",
    "print(tf.__version__)\n",
    "tf.logging.set_verbosity(\"ERROR\")"
   ]
  },
  {
   "cell_type": "code",
   "execution_count": 3,
   "metadata": {
    "collapsed": false
   },
   "outputs": [],
   "source": [
    "# acne + ezcema\n",
    "train = []\n",
    "labels = []\n",
    "\n",
    "for count in range(1,49): #only taking first 48 pics, last 5 to act as a '''test set'''\n",
    "    string = \"processed/acne/\" + str(count) + \".jpg\"\n",
    "    pic = Image.open(string).load()\n",
    "    red = []\n",
    "    green = []\n",
    "    blue = []\n",
    "    for x in range(0,64):\n",
    "        for y in range(0,64):\n",
    "            red.append((pic[x,y][0]))\n",
    "            green.append((pic[x,y][1]))\n",
    "            blue.append((pic[x,y][2]))\n",
    "    rgb = []\n",
    "    rgb.append(red)\n",
    "    rgb.append(green)\n",
    "    rgb.append(blue)\n",
    "\n",
    "    train.append(rgb)\n",
    "    labels.append(0)\n",
    "    \n",
    "for count in range(1,52): #only taking first 49 pics, last 5 to act as a '''test set'''\n",
    "    string = \"processed/ezcema/\" + str(count) + \".jpg\"\n",
    "    pic = Image.open(string).load()\n",
    "    red = []\n",
    "    green = []\n",
    "    blue = []\n",
    "    for x in range(0,64):\n",
    "        for y in range(0,64):\n",
    "            red.append((pic[x,y][0]))\n",
    "            green.append((pic[x,y][1]))\n",
    "            blue.append((pic[x,y][2]))\n",
    "    rgb = []\n",
    "    rgb.append(red)\n",
    "    rgb.append(green)\n",
    "    rgb.append(blue)\n",
    "\n",
    "    train.append(rgb)\n",
    "    labels.append(1)\n",
    "    \n",
    "train = np.asarray(train, dtype=np.float32)\n",
    "labels = np.asarray(labels)"
   ]
  },
  {
   "cell_type": "code",
   "execution_count": 5,
   "metadata": {
    "collapsed": false
   },
   "outputs": [],
   "source": [
    "def cnn_model_fn(features, labels, mode):\n",
    "    \"\"\"Model function for CNN.\"\"\"\n",
    "    # Input Layer\n",
    "    input_layer = tf.reshape(features[\"x\"], [-1, 64, 64, 3])\n",
    "\n",
    "    # Convolutional Layer #1\n",
    "    conv1 = tf.layers.conv2d(\n",
    "      inputs=input_layer,\n",
    "      filters=64,\n",
    "      kernel_size=[13, 13],\n",
    "      padding=\"same\",\n",
    "      activation=tf.nn.relu) #output: [-1, 64, 64, 64]\n",
    "    pool1 = tf.layers.max_pooling2d(inputs=conv1, pool_size=[2, 2], strides=2) #output [-1, 32, 32, 64]\n",
    "    \n",
    "    # Convolutional Layer #2\n",
    "    conv2 = tf.layers.conv2d(\n",
    "      inputs=pool1,\n",
    "      filters=96,\n",
    "      kernel_size=[13, 13],\n",
    "      padding=\"same\",\n",
    "      activation=tf.nn.relu) #output: [-1, 32, 32, 96]\n",
    "    pool2 = tf.layers.max_pooling2d(inputs=conv2, pool_size=[2, 2], strides=2) #output [-1, 16, 16, 96]\n",
    "    #print(pool2.shape)\n",
    "    \n",
    "    # Dense Layer\n",
    "    pool2_flat = tf.reshape(pool2, [-1, 16 * 16 * 96])\n",
    "    dense = tf.layers.dense(inputs=pool2_flat, units=1024, activation=tf.nn.relu)\n",
    "    #print(dense.shape)\n",
    "    dropout = tf.layers.dropout(inputs=dense, rate=0.4, training=mode == tf.estimator.ModeKeys.TRAIN)\n",
    "    #print(dropout.shape)\n",
    "    \n",
    "    # Logits Layer\n",
    "    logits = tf.layers.dense(inputs=dropout, units=2)\n",
    "    #print(logits.shape)\n",
    "    \n",
    "    predictions = {\n",
    "        \"classes\": tf.argmax(input=logits, axis=1),\n",
    "        \"probabilities\": tf.nn.softmax(logits, name=\"softmax_tensor\")\n",
    "    }\n",
    "    \n",
    "    if mode == tf.estimator.ModeKeys.PREDICT:\n",
    "        return tf.estimator.EstimatorSpec(mode=mode, predictions=predictions)\n",
    "    \n",
    "    # Loss Calculation\n",
    "    onehot_labels = tf.one_hot(indices=tf.cast(labels, tf.int32), depth=2)\n",
    "    loss = tf.losses.softmax_cross_entropy(onehot_labels=onehot_labels, logits=logits)\n",
    "    \n",
    "    # Configure training op\n",
    "    if mode == tf.estimator.ModeKeys.TRAIN:\n",
    "        optimizer = tf.train.AdamOptimizer(learning_rate=0.001)\n",
    "        train_op = optimizer.minimize(loss=loss, global_step=tf.train.get_global_step())\n",
    "        return tf.estimator.EstimatorSpec(mode=mode, loss=loss, train_op=train_op)\n",
    "    \n",
    "    # Add Evaluation Metrics\n",
    "    eval_metric_ops = {\n",
    "        \"accuracy\": tf.metrics.accuracy(labels=labels, predictions=predictions[\"classes\"])\n",
    "    }\n",
    "    return tf.estimator.EstimatorSpec(mode=mode, loss=loss, eval_metric_ops=eval_metric_ops)\n",
    "\n",
    "train_data = train\n",
    "train_labels = labels\n",
    "mnist_classifier = tf.estimator.Estimator(model_fn=cnn_model_fn)\n",
    "\n",
    "# Set up logging for predictions\n",
    "tensors_to_log = {\"probabilities\": \"softmax_tensor\"}\n",
    "logging_hook = tf.train.LoggingTensorHook(tensors=tensors_to_log, every_n_iter=200)"
   ]
  },
  {
   "cell_type": "code",
   "execution_count": null,
   "metadata": {
    "collapsed": false,
    "scrolled": false
   },
   "outputs": [
    {
     "name": "stdout",
     "output_type": "stream",
     "text": [
      "(50, 16, 16, 96)\n",
      "(50, 1024)\n",
      "(50, 1024)\n",
      "(50, 2)\n"
     ]
    }
   ],
   "source": [
    "# Train the model\n",
    "train_input_fn = tf.estimator.inputs.numpy_input_fn(\n",
    "    x={\"x\": train_data},\n",
    "    y=train_labels,\n",
    "    batch_size=50,\n",
    "    num_epochs=None,\n",
    "    shuffle=True)\n",
    "\n",
    "mnist_classifier.train(\n",
    "    input_fn=train_input_fn,\n",
    "    steps=5000,\n",
    "    hooks=[logging_hook])\n",
    "\n",
    "# logits should be same shape as onehot_labels"
   ]
  }
 ],
 "metadata": {
  "kernelspec": {
   "display_name": "Python 3",
   "language": "python",
   "name": "python3"
  },
  "language_info": {
   "codemirror_mode": {
    "name": "ipython",
    "version": 3
   },
   "file_extension": ".py",
   "mimetype": "text/x-python",
   "name": "python",
   "nbconvert_exporter": "python",
   "pygments_lexer": "ipython3",
   "version": "3.6.0"
  }
 },
 "nbformat": 4,
 "nbformat_minor": 2
}
