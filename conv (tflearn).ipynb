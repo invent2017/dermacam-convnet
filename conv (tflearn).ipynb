{
 "cells": [
  {
   "cell_type": "code",
   "execution_count": 1,
   "metadata": {
    "collapsed": false,
    "scrolled": true
   },
   "outputs": [
    {
     "name": "stderr",
     "output_type": "stream",
     "text": [
      "/home/filbert/anaconda3/lib/python3.6/importlib/_bootstrap.py:205: RuntimeWarning: compiletime version 3.5 of module 'tensorflow.python.framework.fast_tensor_util' does not match runtime version 3.6\n",
      "  return f(*args, **kwds)\n"
     ]
    },
    {
     "name": "stdout",
     "output_type": "stream",
     "text": [
      "1.4.0\n"
     ]
    }
   ],
   "source": [
    "import tensorflow as tf\n",
    "import pandas as pd\n",
    "import numpy as np\n",
    "import tflearn\n",
    "import matplotlib.pyplot as plt\n",
    "import matplotlib\n",
    "from PIL import Image\n",
    "%matplotlib inline\n",
    "print(tf.__version__)\n",
    "tf.logging.set_verbosity(\"INFO\")"
   ]
  },
  {
   "cell_type": "code",
   "execution_count": 2,
   "metadata": {
    "collapsed": true
   },
   "outputs": [],
   "source": [
    "# define preprocessing function\n",
    "def preprocess(disease, first, last, data, label):\n",
    "    for count in range(first,last+1): #only taking first 48 pics, last 5 to act as a '''test set'''\n",
    "        string = \"processed/\" + str(disease) + \"/\" + str(count) + \".jpg\"\n",
    "        pic = Image.open(string).load()\n",
    "        red = []\n",
    "        green = []\n",
    "        blue = []\n",
    "        for x in range(0,64):\n",
    "            for y in range(0,64):\n",
    "                red.append((pic[x,y][0]))\n",
    "                green.append((pic[x,y][1]))\n",
    "                blue.append((pic[x,y][2]))\n",
    "        rgb = []\n",
    "        rgb.append(red)\n",
    "        rgb.append(green)\n",
    "        rgb.append(blue)\n",
    "\n",
    "        data.append(rgb)\n",
    "        if disease == \"acne\":\n",
    "            label.append(0)\n",
    "        elif disease == \"ezcema\":\n",
    "            label.append(1)\n",
    "\n",
    "# define training data\n",
    "train_data = []\n",
    "train_labels = []\n",
    "\n",
    "preprocess(\"acne\",1,48,train_data,train_labels)\n",
    "preprocess(\"ezcema\",1,51,train_data,train_labels)\n",
    "    \n",
    "train_data = np.asarray(train_data, dtype=np.float32)\n",
    "train_labels = np.asarray(train_labels)\n",
    "\n",
    "# define testing data\n",
    "test_data = []\n",
    "test_labels = []\n",
    "\n",
    "preprocess(\"acne\",49,53,test_data,test_labels)\n",
    "preprocess(\"ezcema\",52,56,test_data,test_labels)\n",
    "\n",
    "test_data = np.asarray(test_data, dtype=np.float32)\n",
    "test_labels = np.asarray(test_labels)"
   ]
  },
  {
   "cell_type": "code",
   "execution_count": null,
   "metadata": {
    "collapsed": true
   },
   "outputs": [],
   "source": [
    "# define network architecture\n",
    "network = input_data(shape=[-1, 64, 64, 3])"
   ]
  }
 ],
 "metadata": {
  "kernelspec": {
   "display_name": "Python 3",
   "language": "python",
   "name": "python3"
  },
  "language_info": {
   "codemirror_mode": {
    "name": "ipython",
    "version": 3
   },
   "file_extension": ".py",
   "mimetype": "text/x-python",
   "name": "python",
   "nbconvert_exporter": "python",
   "pygments_lexer": "ipython3",
   "version": "3.6.0"
  }
 },
 "nbformat": 4,
 "nbformat_minor": 2
}
